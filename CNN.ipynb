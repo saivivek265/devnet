{
 "cells": [
  {
   "cell_type": "code",
   "execution_count": null,
   "metadata": {},
   "outputs": [],
   "source": [
    "import os\n",
    "import cv2 \n",
    "import numpy as np \n",
    "from sklearn.model_selection import train_test_split"
   ]
  },
  {
   "cell_type": "code",
   "execution_count": null,
   "metadata": {},
   "outputs": [],
   "source": [
    "train_dir = \"/Users/Downloads/Data/Plants_2/train\"\n",
    "valid_dir = \"/Users/Downloads/Data/Plants_2/valid\"\n",
    "test_dir = \"/Users/Downloads/Data/Plants_2/test\"\n",
    "labels = {'healthy': 0, 'diseased': 1}"
   ]
  },
  {
   "cell_type": "code",
   "execution_count": null,
   "metadata": {},
   "outputs": [],
   "source": [
    "def load_images_from_folder(folder, label_type):\n",
    "    images = []\n",
    "    image_labels = []\n",
    "    for subfolder in os.listdir(folder):\n",
    "        subfolder_path = os.path.join(folder, subfolder)\n",
    "        if not os.path.isdir(subfolder_path):\n",
    "            continue\n",
    "        \n",
    "        # Determine the label based on folder name (e.g., 'healthy' or 'diseased')\n",
    "        if 'healthy' in subfolder.lower():\n",
    "            label = labels['healthy']\n",
    "        elif 'diseased' in subfolder.lower():\n",
    "            label = labels['diseased']\n",
    "        else:\n",
    "            continue\n",
    "        \n",
    "        for filename in os.listdir(subfolder_path):\n",
    "            img_path = os.path.join(subfolder_path, filename)\n",
    "            img = cv2.imread(img_path, cv2.IMREAD_GRAYSCALE)  # Convert to grayscale\n",
    "            if img is not None:\n",
    "                img_resized = cv2.resize(img, (128, 128))  # Resize the image\n",
    "                images.append(img_resized)\n",
    "                image_labels.append(label)\n",
    "    \n",
    "    return np.array(images), np.array(image_labels)\n"
   ]
  },
  {
   "cell_type": "code",
   "execution_count": null,
   "metadata": {},
   "outputs": [],
   "source": [
    "# Load train, validation, and test images\n",
    "X_train, y_train = load_images_from_folder(train_dir, 'train')\n",
    "X_valid, y_valid = load_images_from_folder(valid_dir, 'valid')\n",
    "X_test, y_test = load_images_from_folder(test_dir, 'test')\n",
    "\n",
    "# Normalize the image data (pixel values 0-255 to 0-1)\n",
    "X_train = X_train / 255.0\n",
    "X_valid = X_valid / 255.0\n",
    "X_test = X_test / 255.0\n",
    "\n",
    "# Reshape the data to add the channel dimension (for grayscale images)\n",
    "X_train = np.expand_dims(X_train, axis=-1)\n",
    "X_valid = np.expand_dims(X_valid, axis=-1)\n",
    "X_test = np.expand_dims(X_test, axis=-1)\n",
    "\n",
    "# Check the shapes of the datasets\n",
    "print(f\"Training data shape: {X_train.shape}, Training labels shape: {y_train.shape}\")\n",
    "print(f\"Validation data shape: {X_valid.shape}, Validation labels shape: {y_valid.shape}\")\n",
    "print(f\"Test data shape: {X_test.shape}, Test labels shape: {y_test.shape}\")"
   ]
  }
 ],
 "metadata": {
  "kernelspec": {
   "display_name": "Python 3",
   "language": "python",
   "name": "python3"
  },
  "language_info": {
   "name": "python",
   "version": "3.9.6"
  }
 },
 "nbformat": 4,
 "nbformat_minor": 2
}
